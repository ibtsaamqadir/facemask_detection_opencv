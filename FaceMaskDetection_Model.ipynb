{
  "cells": [
    {
      "cell_type": "markdown",
      "metadata": {
        "id": "MdbrW-cUnA-R"
      },
      "source": [
        "Mounting the Google Drive"
      ]
    },
    {
      "cell_type": "code",
      "execution_count": null,
      "metadata": {
        "colab": {
          "base_uri": "https://localhost:8080/"
        },
        "id": "6QZXwVdYZRYm",
        "outputId": "cfd083b9-4f4a-4a8b-806d-a02ee1f4107a"
      },
      "outputs": [],
      "source": [
        "from google.colab import drive\n",
        "drive.mount('/content/drive')"
      ]
    },
    {
      "cell_type": "markdown",
      "metadata": {
        "id": "iotk6DFAnKTU"
      },
      "source": [
        "Change the directory to the working directory."
      ]
    },
    {
      "cell_type": "code",
      "execution_count": null,
      "metadata": {
        "colab": {
          "base_uri": "https://localhost:8080/"
        },
        "id": "wzfk-eKwaXMN",
        "outputId": "5788470b-efbd-489d-96c0-709b7722edd4"
      },
      "outputs": [],
      "source": [
        "cd drive/MyDrive/Computer\\ Vision/Dataset_project/"
      ]
    },
    {
      "cell_type": "markdown",
      "metadata": {
        "id": "u_Rn9oEVLaxr"
      },
      "source": [
        "## Importing all the necessary libraries and packages"
      ]
    },
    {
      "cell_type": "code",
      "execution_count": null,
      "metadata": {
        "id": "2zuVfdMLLYuL"
      },
      "outputs": [],
      "source": [
        "from keras.models import Sequential, Model, load_model\n",
        "from keras.optimizers import RMSprop, Adam\n",
        "from keras.layers import Conv2D, Input, ZeroPadding2D, BatchNormalization, Activation, MaxPooling2D, Flatten, Dense,Dropout\n",
        "from keras.preprocessing.image import ImageDataGenerator\n",
        "from keras.callbacks import TensorBoard, ModelCheckpoint\n",
        "import imutils"
      ]
    },
    {
      "cell_type": "markdown",
      "metadata": {
        "id": "S1qrwiGRQDPE"
      },
      "source": [
        "## Creating the classification model using Sequential Model from Keras\n"
      ]
    },
    {
      "cell_type": "code",
      "execution_count": null,
      "metadata": {
        "id": "41Py9-oSOdiz"
      },
      "outputs": [],
      "source": [
        "model =Sequential([\n",
        "    Conv2D(100, (3,3), activation='relu', input_shape=(150, 150, 3)),\n",
        "    MaxPooling2D(2,2),\n",
        "    \n",
        "    Conv2D(100, (3,3), activation='relu'),\n",
        "    MaxPooling2D(2,2),\n",
        "    \n",
        "    Flatten(),\n",
        "    Dropout(0.5),\n",
        "    Dense(50, activation='relu'),\n",
        "    Dense(2, activation='softmax')\n",
        "])\n",
        "model.compile(optimizer='adam', loss='binary_crossentropy', metrics=['acc'])"
      ]
    },
    {
      "cell_type": "markdown",
      "metadata": {
        "id": "AlDmyZokd-sq"
      },
      "source": [
        "## Training Dataset and Preprocessing"
      ]
    },
    {
      "cell_type": "code",
      "execution_count": null,
      "metadata": {
        "colab": {
          "base_uri": "https://localhost:8080/"
        },
        "id": "fPn7GpjnCMmY",
        "outputId": "b1f11192-6a90-4ed9-c2f4-f847d3e34715"
      },
      "outputs": [],
      "source": [
        "TRAINING_DIR = \"./train\"\n",
        "train_datagen = ImageDataGenerator(rescale=1.0/255,\n",
        "                                   rotation_range=40,\n",
        "                                   width_shift_range=0.2,\n",
        "                                   height_shift_range=0.2,\n",
        "                                   shear_range=0.2,\n",
        "                                   zoom_range=0.2,\n",
        "                                   horizontal_flip=True,\n",
        "                                   fill_mode='nearest')\n",
        "\n",
        "train_generator = train_datagen.flow_from_directory(TRAINING_DIR, \n",
        "                                                    batch_size=10, \n",
        "                                                    target_size=(150, 150))"
      ]
    },
    {
      "cell_type": "markdown",
      "metadata": {
        "id": "4uEgYGQGePiK"
      },
      "source": [
        "## Test Dataset and Preprocessing"
      ]
    },
    {
      "cell_type": "code",
      "execution_count": null,
      "metadata": {
        "colab": {
          "base_uri": "https://localhost:8080/"
        },
        "id": "OS2bUc80R_od",
        "outputId": "0ada26db-cc20-425c-be21-2fb23f46d82d"
      },
      "outputs": [],
      "source": [
        "VALIDATION_DIR = \"./test\"\n",
        "validation_datagen = ImageDataGenerator(rescale=1.0/255)\n",
        "\n",
        "validation_generator = validation_datagen.flow_from_directory(VALIDATION_DIR, \n",
        "                                                         batch_size=10, \n",
        "                                                         target_size=(150, 150))"
      ]
    },
    {
      "cell_type": "markdown",
      "metadata": {
        "id": "1fQe9qTJeRne"
      },
      "source": [
        "## Training the model on the training Dataset"
      ]
    },
    {
      "cell_type": "code",
      "execution_count": null,
      "metadata": {
        "colab": {
          "base_uri": "https://localhost:8080/"
        },
        "id": "7e-qwwSHhM2Y",
        "outputId": "8fb45ea5-4fd2-4996-9230-29d26e47089b"
      },
      "outputs": [],
      "source": [
        "checkpoint = ModelCheckpoint('model2-{epoch:03d}.model',monitor='val_loss',verbose=0,save_best_only=True,mode='auto')\n",
        "\n",
        "\n",
        "history = model.fit_generator(train_generator,\n",
        "                              epochs=10,\n",
        "                              validation_data=validation_generator,\n",
        "                              callbacks=[checkpoint])"
      ]
    }
  ],
  "metadata": {
    "colab": {
      "provenance": []
    },
    "kernelspec": {
      "display_name": "Python 3",
      "name": "python3"
    },
    "language_info": {
      "name": "python"
    }
  },
  "nbformat": 4,
  "nbformat_minor": 0
}
